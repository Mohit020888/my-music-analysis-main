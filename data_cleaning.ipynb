{
  "cells": [
    {
      "attachments": {},
      "cell_type": "markdown",
      "metadata": {
        "id": "Sr8so99VZS8p"
      },
      "source": [
        "# Data Cleaning\n",
        "\n",
        "Before starting out with data analysis it is pertinent that we check the data and solve any messiness present in the data so that we get accurate results."
      ]
    },
    {
      "cell_type": "code",
      "execution_count": 1,
      "metadata": {
        "id": "4UR7mSuC9sjO"
      },
      "outputs": [],
      "source": [
        "#importing required packages\n",
        "import pandas as pd"
      ]
    },
    {
      "cell_type": "code",
      "execution_count": 2,
      "metadata": {
        "colab": {
          "base_uri": "https://localhost:8080/",
          "height": 411
        },
        "id": "h2AUa_wGi252",
        "outputId": "c6c9c05f-d882-4b95-ee47-a74c9ef0aa4d"
      },
      "outputs": [
        {
          "data": {
            "text/html": [
              "<div>\n",
              "<style scoped>\n",
              "    .dataframe tbody tr th:only-of-type {\n",
              "        vertical-align: middle;\n",
              "    }\n",
              "\n",
              "    .dataframe tbody tr th {\n",
              "        vertical-align: top;\n",
              "    }\n",
              "\n",
              "    .dataframe thead th {\n",
              "        text-align: right;\n",
              "    }\n",
              "</style>\n",
              "<table border=\"1\" class=\"dataframe\">\n",
              "  <thead>\n",
              "    <tr style=\"text-align: right;\">\n",
              "      <th></th>\n",
              "      <th>Unnamed: 0</th>\n",
              "      <th>name</th>\n",
              "      <th>endTime</th>\n",
              "      <th>artistName</th>\n",
              "      <th>trackName</th>\n",
              "      <th>msPlayed</th>\n",
              "      <th>datetime</th>\n",
              "      <th>danceability</th>\n",
              "      <th>energy</th>\n",
              "      <th>key</th>\n",
              "      <th>...</th>\n",
              "      <th>liveness</th>\n",
              "      <th>valence</th>\n",
              "      <th>tempo</th>\n",
              "      <th>type</th>\n",
              "      <th>id</th>\n",
              "      <th>uri</th>\n",
              "      <th>track_href</th>\n",
              "      <th>analysis_url</th>\n",
              "      <th>duration_ms</th>\n",
              "      <th>time_signature</th>\n",
              "    </tr>\n",
              "  </thead>\n",
              "  <tbody>\n",
              "    <tr>\n",
              "      <th>0</th>\n",
              "      <td>0</td>\n",
              "      <td>Slow Motion</td>\n",
              "      <td>2022-05-11 00:59</td>\n",
              "      <td>Kalandra</td>\n",
              "      <td>Slow Motion</td>\n",
              "      <td>319292</td>\n",
              "      <td>2022-05-11 00:59:00</td>\n",
              "      <td>0.713</td>\n",
              "      <td>0.734</td>\n",
              "      <td>0.0</td>\n",
              "      <td>...</td>\n",
              "      <td>0.0687</td>\n",
              "      <td>0.8900</td>\n",
              "      <td>172.872</td>\n",
              "      <td>audio_features</td>\n",
              "      <td>6ihObRBTB8xdSH2mlERtOX</td>\n",
              "      <td>spotify:track:6ihObRBTB8xdSH2mlERtOX</td>\n",
              "      <td>https://api.spotify.com/v1/tracks/6ihObRBTB8xd...</td>\n",
              "      <td>https://api.spotify.com/v1/audio-analysis/6ihO...</td>\n",
              "      <td>248200.0</td>\n",
              "      <td>4.0</td>\n",
              "    </tr>\n",
              "    <tr>\n",
              "      <th>1</th>\n",
              "      <td>1</td>\n",
              "      <td>Storm Corrosion</td>\n",
              "      <td>2022-05-11 01:07</td>\n",
              "      <td>Storm Corrosion</td>\n",
              "      <td>Storm Corrosion</td>\n",
              "      <td>505432</td>\n",
              "      <td>2022-05-11 01:07:00</td>\n",
              "      <td>0.303</td>\n",
              "      <td>0.175</td>\n",
              "      <td>9.0</td>\n",
              "      <td>...</td>\n",
              "      <td>0.3440</td>\n",
              "      <td>0.0947</td>\n",
              "      <td>119.786</td>\n",
              "      <td>audio_features</td>\n",
              "      <td>4h6cvOxiHOgNJRir4R0en2</td>\n",
              "      <td>spotify:track:4h6cvOxiHOgNJRir4R0en2</td>\n",
              "      <td>https://api.spotify.com/v1/tracks/4h6cvOxiHOgN...</td>\n",
              "      <td>https://api.spotify.com/v1/audio-analysis/4h6c...</td>\n",
              "      <td>609080.0</td>\n",
              "      <td>4.0</td>\n",
              "    </tr>\n",
              "    <tr>\n",
              "      <th>2</th>\n",
              "      <td>2</td>\n",
              "      <td>SHIVA</td>\n",
              "      <td>2022-05-11 01:14</td>\n",
              "      <td>ChrisNa Karast</td>\n",
              "      <td>SHIVA</td>\n",
              "      <td>389400</td>\n",
              "      <td>2022-05-11 01:14:00</td>\n",
              "      <td>0.653</td>\n",
              "      <td>0.849</td>\n",
              "      <td>2.0</td>\n",
              "      <td>...</td>\n",
              "      <td>0.0619</td>\n",
              "      <td>0.4860</td>\n",
              "      <td>122.987</td>\n",
              "      <td>audio_features</td>\n",
              "      <td>3L578QAFtaXYuRz0gmoVei</td>\n",
              "      <td>spotify:track:3L578QAFtaXYuRz0gmoVei</td>\n",
              "      <td>https://api.spotify.com/v1/tracks/3L578QAFtaXY...</td>\n",
              "      <td>https://api.spotify.com/v1/audio-analysis/3L57...</td>\n",
              "      <td>368947.0</td>\n",
              "      <td>4.0</td>\n",
              "    </tr>\n",
              "    <tr>\n",
              "      <th>3</th>\n",
              "      <td>3</td>\n",
              "      <td>Water From A Vine Leaf</td>\n",
              "      <td>2022-05-11 01:21</td>\n",
              "      <td>William Orbit</td>\n",
              "      <td>Water From A Vine Leaf</td>\n",
              "      <td>425000</td>\n",
              "      <td>2022-05-11 01:21:00</td>\n",
              "      <td>0.600</td>\n",
              "      <td>0.532</td>\n",
              "      <td>1.0</td>\n",
              "      <td>...</td>\n",
              "      <td>0.0574</td>\n",
              "      <td>0.0867</td>\n",
              "      <td>101.612</td>\n",
              "      <td>audio_features</td>\n",
              "      <td>2XyXV61Fvo5ytBLvVRgTbX</td>\n",
              "      <td>spotify:track:2XyXV61Fvo5ytBLvVRgTbX</td>\n",
              "      <td>https://api.spotify.com/v1/tracks/2XyXV61Fvo5y...</td>\n",
              "      <td>https://api.spotify.com/v1/audio-analysis/2XyX...</td>\n",
              "      <td>425000.0</td>\n",
              "      <td>4.0</td>\n",
              "    </tr>\n",
              "    <tr>\n",
              "      <th>4</th>\n",
              "      <td>4</td>\n",
              "      <td>Slow, in Ashes</td>\n",
              "      <td>2022-05-11 01:26</td>\n",
              "      <td>Matt Lange</td>\n",
              "      <td>Slow, in Ashes</td>\n",
              "      <td>312000</td>\n",
              "      <td>2022-05-11 01:26:00</td>\n",
              "      <td>0.724</td>\n",
              "      <td>0.604</td>\n",
              "      <td>1.0</td>\n",
              "      <td>...</td>\n",
              "      <td>0.0725</td>\n",
              "      <td>0.2740</td>\n",
              "      <td>110.034</td>\n",
              "      <td>audio_features</td>\n",
              "      <td>2IZp3NeOrGUFRtaM2TmOvv</td>\n",
              "      <td>spotify:track:2IZp3NeOrGUFRtaM2TmOvv</td>\n",
              "      <td>https://api.spotify.com/v1/tracks/2IZp3NeOrGUF...</td>\n",
              "      <td>https://api.spotify.com/v1/audio-analysis/2IZp...</td>\n",
              "      <td>312000.0</td>\n",
              "      <td>4.0</td>\n",
              "    </tr>\n",
              "  </tbody>\n",
              "</table>\n",
              "<p>5 rows × 25 columns</p>\n",
              "</div>"
            ],
            "text/plain": [
              "   Unnamed: 0                    name           endTime       artistName  \\\n",
              "0           0             Slow Motion  2022-05-11 00:59         Kalandra   \n",
              "1           1         Storm Corrosion  2022-05-11 01:07  Storm Corrosion   \n",
              "2           2                   SHIVA  2022-05-11 01:14   ChrisNa Karast   \n",
              "3           3  Water From A Vine Leaf  2022-05-11 01:21    William Orbit   \n",
              "4           4          Slow, in Ashes  2022-05-11 01:26       Matt Lange   \n",
              "\n",
              "                trackName  msPlayed             datetime  danceability  \\\n",
              "0             Slow Motion    319292  2022-05-11 00:59:00         0.713   \n",
              "1         Storm Corrosion    505432  2022-05-11 01:07:00         0.303   \n",
              "2                   SHIVA    389400  2022-05-11 01:14:00         0.653   \n",
              "3  Water From A Vine Leaf    425000  2022-05-11 01:21:00         0.600   \n",
              "4          Slow, in Ashes    312000  2022-05-11 01:26:00         0.724   \n",
              "\n",
              "   energy  key  ...  liveness  valence    tempo            type  \\\n",
              "0   0.734  0.0  ...    0.0687   0.8900  172.872  audio_features   \n",
              "1   0.175  9.0  ...    0.3440   0.0947  119.786  audio_features   \n",
              "2   0.849  2.0  ...    0.0619   0.4860  122.987  audio_features   \n",
              "3   0.532  1.0  ...    0.0574   0.0867  101.612  audio_features   \n",
              "4   0.604  1.0  ...    0.0725   0.2740  110.034  audio_features   \n",
              "\n",
              "                       id                                   uri  \\\n",
              "0  6ihObRBTB8xdSH2mlERtOX  spotify:track:6ihObRBTB8xdSH2mlERtOX   \n",
              "1  4h6cvOxiHOgNJRir4R0en2  spotify:track:4h6cvOxiHOgNJRir4R0en2   \n",
              "2  3L578QAFtaXYuRz0gmoVei  spotify:track:3L578QAFtaXYuRz0gmoVei   \n",
              "3  2XyXV61Fvo5ytBLvVRgTbX  spotify:track:2XyXV61Fvo5ytBLvVRgTbX   \n",
              "4  2IZp3NeOrGUFRtaM2TmOvv  spotify:track:2IZp3NeOrGUFRtaM2TmOvv   \n",
              "\n",
              "                                          track_href  \\\n",
              "0  https://api.spotify.com/v1/tracks/6ihObRBTB8xd...   \n",
              "1  https://api.spotify.com/v1/tracks/4h6cvOxiHOgN...   \n",
              "2  https://api.spotify.com/v1/tracks/3L578QAFtaXY...   \n",
              "3  https://api.spotify.com/v1/tracks/2XyXV61Fvo5y...   \n",
              "4  https://api.spotify.com/v1/tracks/2IZp3NeOrGUF...   \n",
              "\n",
              "                                        analysis_url duration_ms  \\\n",
              "0  https://api.spotify.com/v1/audio-analysis/6ihO...    248200.0   \n",
              "1  https://api.spotify.com/v1/audio-analysis/4h6c...    609080.0   \n",
              "2  https://api.spotify.com/v1/audio-analysis/3L57...    368947.0   \n",
              "3  https://api.spotify.com/v1/audio-analysis/2XyX...    425000.0   \n",
              "4  https://api.spotify.com/v1/audio-analysis/2IZp...    312000.0   \n",
              "\n",
              "  time_signature  \n",
              "0            4.0  \n",
              "1            4.0  \n",
              "2            4.0  \n",
              "3            4.0  \n",
              "4            4.0  \n",
              "\n",
              "[5 rows x 25 columns]"
            ]
          },
          "execution_count": 2,
          "metadata": {},
          "output_type": "execute_result"
        }
      ],
      "source": [
        "# loading the song file\n",
        "df1 = pd.read_csv('spotify data scraping\\output\\\\final.csv')\n",
        "df1.head()"
      ]
    },
    {
      "cell_type": "code",
      "execution_count": 3,
      "metadata": {
        "colab": {
          "base_uri": "https://localhost:8080/",
          "height": 119
        },
        "id": "pDUA6hmGid8X",
        "outputId": "848c1fa8-4e7f-48ba-b7ac-83bd4f571619"
      },
      "outputs": [
        {
          "data": {
            "text/plain": [
              "Index(['Unnamed: 0', 'name', 'endTime', 'artistName', 'trackName', 'msPlayed',\n",
              "       'datetime', 'danceability', 'energy', 'key', 'loudness', 'mode',\n",
              "       'speechiness', 'acousticness', 'instrumentalness', 'liveness',\n",
              "       'valence', 'tempo', 'type', 'id', 'uri', 'track_href', 'analysis_url',\n",
              "       'duration_ms', 'time_signature'],\n",
              "      dtype='object')"
            ]
          },
          "execution_count": 3,
          "metadata": {},
          "output_type": "execute_result"
        }
      ],
      "source": [
        "df1.columns"
      ]
    },
    {
      "cell_type": "code",
      "execution_count": 6,
      "metadata": {
        "colab": {
          "base_uri": "https://localhost:8080/",
          "height": 462
        },
        "id": "FJ5-LKs41VLm",
        "outputId": "00b2d3e2-9837-46d4-dc83-cd0589a6bb41"
      },
      "outputs": [
        {
          "data": {
            "text/html": [
              "<div>\n",
              "<style scoped>\n",
              "    .dataframe tbody tr th:only-of-type {\n",
              "        vertical-align: middle;\n",
              "    }\n",
              "\n",
              "    .dataframe tbody tr th {\n",
              "        vertical-align: top;\n",
              "    }\n",
              "\n",
              "    .dataframe thead th {\n",
              "        text-align: right;\n",
              "    }\n",
              "</style>\n",
              "<table border=\"1\" class=\"dataframe\">\n",
              "  <thead>\n",
              "    <tr style=\"text-align: right;\">\n",
              "      <th></th>\n",
              "      <th>Unnamed: 0</th>\n",
              "      <th>id</th>\n",
              "      <th>spotify_id</th>\n",
              "      <th>list_name</th>\n",
              "      <th>list_id</th>\n",
              "      <th>song_id</th>\n",
              "      <th>song_name</th>\n",
              "      <th>artist</th>\n",
              "      <th>popularity</th>\n",
              "      <th>release_date</th>\n",
              "      <th>...</th>\n",
              "      <th>tempo</th>\n",
              "      <th>speechiness</th>\n",
              "      <th>acousticness</th>\n",
              "      <th>instrumentalness</th>\n",
              "      <th>danceability</th>\n",
              "      <th>duration_ms</th>\n",
              "      <th>loudness</th>\n",
              "      <th>valence</th>\n",
              "      <th>mode</th>\n",
              "      <th>key</th>\n",
              "    </tr>\n",
              "  </thead>\n",
              "  <tbody>\n",
              "    <tr>\n",
              "      <th>0</th>\n",
              "      <td>0</td>\n",
              "      <td>1</td>\n",
              "      <td>7nAScwBKXcvE6V2oe6KQkb</td>\n",
              "      <td>My Playlist #8</td>\n",
              "      <td>7nAScwBKXcvE6V2oe6KQkb</td>\n",
              "      <td>1ty518HppLocYdQXEznYDb</td>\n",
              "      <td>Nityananda</td>\n",
              "      <td>Shanti People</td>\n",
              "      <td>15</td>\n",
              "      <td>2017-04-18</td>\n",
              "      <td>...</td>\n",
              "      <td>94.998</td>\n",
              "      <td>0.0438</td>\n",
              "      <td>0.0614</td>\n",
              "      <td>0.000000</td>\n",
              "      <td>0.715</td>\n",
              "      <td>420857</td>\n",
              "      <td>-8.411</td>\n",
              "      <td>0.719</td>\n",
              "      <td>1</td>\n",
              "      <td>10</td>\n",
              "    </tr>\n",
              "    <tr>\n",
              "      <th>1</th>\n",
              "      <td>1</td>\n",
              "      <td>1</td>\n",
              "      <td>7nAScwBKXcvE6V2oe6KQkb</td>\n",
              "      <td>My Playlist #8</td>\n",
              "      <td>7nAScwBKXcvE6V2oe6KQkb</td>\n",
              "      <td>1ty518HppLocYdQXEznYDb</td>\n",
              "      <td>Nityananda</td>\n",
              "      <td>Shanti People</td>\n",
              "      <td>15</td>\n",
              "      <td>2017-04-18</td>\n",
              "      <td>...</td>\n",
              "      <td>94.998</td>\n",
              "      <td>0.0438</td>\n",
              "      <td>0.0614</td>\n",
              "      <td>0.000000</td>\n",
              "      <td>0.715</td>\n",
              "      <td>420857</td>\n",
              "      <td>-8.411</td>\n",
              "      <td>0.719</td>\n",
              "      <td>1</td>\n",
              "      <td>10</td>\n",
              "    </tr>\n",
              "    <tr>\n",
              "      <th>2</th>\n",
              "      <td>2</td>\n",
              "      <td>1</td>\n",
              "      <td>7nAScwBKXcvE6V2oe6KQkb</td>\n",
              "      <td>My Playlist #8</td>\n",
              "      <td>7nAScwBKXcvE6V2oe6KQkb</td>\n",
              "      <td>7yxHmqBrmFPGD3ifItlhCM</td>\n",
              "      <td>Rama Raghava</td>\n",
              "      <td>Shanti People</td>\n",
              "      <td>8</td>\n",
              "      <td>2013-10-22</td>\n",
              "      <td>...</td>\n",
              "      <td>121.020</td>\n",
              "      <td>0.0462</td>\n",
              "      <td>0.3880</td>\n",
              "      <td>0.000150</td>\n",
              "      <td>0.726</td>\n",
              "      <td>264000</td>\n",
              "      <td>-6.328</td>\n",
              "      <td>0.399</td>\n",
              "      <td>0</td>\n",
              "      <td>6</td>\n",
              "    </tr>\n",
              "    <tr>\n",
              "      <th>3</th>\n",
              "      <td>3</td>\n",
              "      <td>1</td>\n",
              "      <td>7nAScwBKXcvE6V2oe6KQkb</td>\n",
              "      <td>My Playlist #8</td>\n",
              "      <td>7nAScwBKXcvE6V2oe6KQkb</td>\n",
              "      <td>3VZ7ThgOLB9PiaTrmeLnpl</td>\n",
              "      <td>Sri Siksastakam</td>\n",
              "      <td>Shanti People</td>\n",
              "      <td>13</td>\n",
              "      <td>2013-10-22</td>\n",
              "      <td>...</td>\n",
              "      <td>120.037</td>\n",
              "      <td>0.1420</td>\n",
              "      <td>0.0518</td>\n",
              "      <td>0.000006</td>\n",
              "      <td>0.678</td>\n",
              "      <td>382000</td>\n",
              "      <td>-6.279</td>\n",
              "      <td>0.411</td>\n",
              "      <td>1</td>\n",
              "      <td>8</td>\n",
              "    </tr>\n",
              "    <tr>\n",
              "      <th>4</th>\n",
              "      <td>4</td>\n",
              "      <td>1</td>\n",
              "      <td>7nAScwBKXcvE6V2oe6KQkb</td>\n",
              "      <td>My Playlist #8</td>\n",
              "      <td>7nAScwBKXcvE6V2oe6KQkb</td>\n",
              "      <td>2BmwXAUDtEzKw4RGtHJu5B</td>\n",
              "      <td>Tandava - Blazy &amp; Gottinari Remix</td>\n",
              "      <td>Shanti People</td>\n",
              "      <td>52</td>\n",
              "      <td>2017-01-18</td>\n",
              "      <td>...</td>\n",
              "      <td>140.015</td>\n",
              "      <td>0.1560</td>\n",
              "      <td>0.1040</td>\n",
              "      <td>0.007620</td>\n",
              "      <td>0.635</td>\n",
              "      <td>312161</td>\n",
              "      <td>-5.007</td>\n",
              "      <td>0.134</td>\n",
              "      <td>0</td>\n",
              "      <td>4</td>\n",
              "    </tr>\n",
              "  </tbody>\n",
              "</table>\n",
              "<p>5 rows × 22 columns</p>\n",
              "</div>"
            ],
            "text/plain": [
              "   Unnamed: 0  id              spotify_id       list_name  \\\n",
              "0           0   1  7nAScwBKXcvE6V2oe6KQkb  My Playlist #8   \n",
              "1           1   1  7nAScwBKXcvE6V2oe6KQkb  My Playlist #8   \n",
              "2           2   1  7nAScwBKXcvE6V2oe6KQkb  My Playlist #8   \n",
              "3           3   1  7nAScwBKXcvE6V2oe6KQkb  My Playlist #8   \n",
              "4           4   1  7nAScwBKXcvE6V2oe6KQkb  My Playlist #8   \n",
              "\n",
              "                  list_id                 song_id  \\\n",
              "0  7nAScwBKXcvE6V2oe6KQkb  1ty518HppLocYdQXEznYDb   \n",
              "1  7nAScwBKXcvE6V2oe6KQkb  1ty518HppLocYdQXEznYDb   \n",
              "2  7nAScwBKXcvE6V2oe6KQkb  7yxHmqBrmFPGD3ifItlhCM   \n",
              "3  7nAScwBKXcvE6V2oe6KQkb  3VZ7ThgOLB9PiaTrmeLnpl   \n",
              "4  7nAScwBKXcvE6V2oe6KQkb  2BmwXAUDtEzKw4RGtHJu5B   \n",
              "\n",
              "                           song_name         artist  popularity release_date  \\\n",
              "0                         Nityananda  Shanti People          15   2017-04-18   \n",
              "1                         Nityananda  Shanti People          15   2017-04-18   \n",
              "2                       Rama Raghava  Shanti People           8   2013-10-22   \n",
              "3                    Sri Siksastakam  Shanti People          13   2013-10-22   \n",
              "4  Tandava - Blazy & Gottinari Remix  Shanti People          52   2017-01-18   \n",
              "\n",
              "   ...    tempo  speechiness  acousticness  instrumentalness  danceability  \\\n",
              "0  ...   94.998       0.0438        0.0614          0.000000         0.715   \n",
              "1  ...   94.998       0.0438        0.0614          0.000000         0.715   \n",
              "2  ...  121.020       0.0462        0.3880          0.000150         0.726   \n",
              "3  ...  120.037       0.1420        0.0518          0.000006         0.678   \n",
              "4  ...  140.015       0.1560        0.1040          0.007620         0.635   \n",
              "\n",
              "   duration_ms  loudness  valence  mode  key  \n",
              "0       420857    -8.411    0.719     1   10  \n",
              "1       420857    -8.411    0.719     1   10  \n",
              "2       264000    -6.328    0.399     0    6  \n",
              "3       382000    -6.279    0.411     1    8  \n",
              "4       312161    -5.007    0.134     0    4  \n",
              "\n",
              "[5 rows x 22 columns]"
            ]
          },
          "execution_count": 6,
          "metadata": {},
          "output_type": "execute_result"
        }
      ],
      "source": [
        "# loading the playlist data file\n",
        "df2 = pd.read_csv('spotify data scraping\\playlist.csv')\n",
        "df2.head()"
      ]
    },
    {
      "cell_type": "code",
      "execution_count": 7,
      "metadata": {
        "colab": {
          "base_uri": "https://localhost:8080/",
          "height": 102
        },
        "id": "hvrzCw4A1dYv",
        "outputId": "37898551-5c95-44c6-b27e-61ab4de5ea3a"
      },
      "outputs": [
        {
          "data": {
            "text/plain": [
              "Index(['Unnamed: 0', 'id', 'spotify_id', 'list_name', 'list_id', 'song_id',\n",
              "       'song_name', 'artist', 'popularity', 'release_date', 'energy',\n",
              "       'liveness', 'tempo', 'speechiness', 'acousticness', 'instrumentalness',\n",
              "       'danceability', 'duration_ms', 'loudness', 'valence', 'mode', 'key'],\n",
              "      dtype='object')"
            ]
          },
          "execution_count": 7,
          "metadata": {},
          "output_type": "execute_result"
        }
      ],
      "source": [
        "df2.columns"
      ]
    },
    {
      "attachments": {},
      "cell_type": "markdown",
      "metadata": {
        "id": "y1gIP2RioD3T"
      },
      "source": [
        "## Dropping columns\n",
        "\n",
        "There are many columns that are not required for analysis so we will drop those columns."
      ]
    },
    {
      "cell_type": "code",
      "execution_count": 8,
      "metadata": {
        "id": "KTnh16-_4E7n"
      },
      "outputs": [],
      "source": [
        "df1 = df1.drop(columns=['Unnamed: 0', 'name', 'endTime', 'type', 'uri', 'track_href', 'analysis_url', 'duration_ms' ])\n",
        "df2 = df2.drop(columns=['Unnamed: 0', 'id', 'spotify_id', 'list_id' ])"
      ]
    },
    {
      "attachments": {},
      "cell_type": "markdown",
      "metadata": {
        "id": "Y0lTWdV2d9CJ"
      },
      "source": [
        "## Removing Duplicates\n",
        "\n",
        "Since I have listened to a single song multiple times so there are multiple entries of a single song. \n",
        "\n",
        "So we will create a new csv file to store the distinct songs heard by me."
      ]
    },
    {
      "cell_type": "code",
      "execution_count": 9,
      "metadata": {
        "colab": {
          "base_uri": "https://localhost:8080/",
          "height": 34
        },
        "id": "zWo-Y9HTbu2d",
        "outputId": "494f552a-2f4a-4019-fe28-50ec7a01b5e5"
      },
      "outputs": [
        {
          "data": {
            "text/plain": [
              "(32794, 17)"
            ]
          },
          "execution_count": 9,
          "metadata": {},
          "output_type": "execute_result"
        }
      ],
      "source": [
        "# shape before dropping duplicate rows\n",
        "df1.shape"
      ]
    },
    {
      "cell_type": "code",
      "execution_count": 10,
      "metadata": {
        "colab": {
          "base_uri": "https://localhost:8080/",
          "height": 34
        },
        "id": "s0Ut8ufO5xbL",
        "outputId": "f3620d9d-f38e-4a94-e06c-1bcfbbe792dd"
      },
      "outputs": [
        {
          "data": {
            "text/plain": [
              "(446, 18)"
            ]
          },
          "execution_count": 10,
          "metadata": {},
          "output_type": "execute_result"
        }
      ],
      "source": [
        "df2.shape"
      ]
    },
    {
      "cell_type": "code",
      "execution_count": 11,
      "metadata": {
        "id": "ZVQS7OXpcoFG"
      },
      "outputs": [],
      "source": [
        "# we are keeping the last instance instead of the first as we need the latest entry of the song\n",
        "df1_new = df1.drop_duplicates( subset = 'trackName', keep = 'last')\n",
        "df2_new = df2.drop_duplicates( subset = ['list_name', 'song_name'], keep = 'last')"
      ]
    },
    {
      "cell_type": "code",
      "execution_count": 12,
      "metadata": {
        "colab": {
          "base_uri": "https://localhost:8080/",
          "height": 34
        },
        "id": "KUk1PLfcb0xL",
        "outputId": "4f22bf29-f79b-4362-d395-7e8caf5040dc"
      },
      "outputs": [
        {
          "data": {
            "text/plain": [
              "(6342, 17)"
            ]
          },
          "execution_count": 12,
          "metadata": {},
          "output_type": "execute_result"
        }
      ],
      "source": [
        "# after dropping duplicate rows\n",
        "df1_new.shape"
      ]
    },
    {
      "cell_type": "code",
      "execution_count": 13,
      "metadata": {
        "colab": {
          "base_uri": "https://localhost:8080/",
          "height": 34
        },
        "id": "tdAw50bF5_Cy",
        "outputId": "1c259aa3-0b7d-4cb6-a73e-0225646aa821"
      },
      "outputs": [
        {
          "data": {
            "text/plain": [
              "(365, 18)"
            ]
          },
          "execution_count": 13,
          "metadata": {},
          "output_type": "execute_result"
        }
      ],
      "source": [
        "# after dropping duplicate rows\n",
        "df2_new.shape"
      ]
    },
    {
      "attachments": {},
      "cell_type": "markdown",
      "metadata": {
        "id": "O4mpKHnVoLQA"
      },
      "source": [
        "## Null check\n",
        "\n",
        "Checking for empty cells and filling them is important. Since there are no empty cells there is no need for imputation."
      ]
    },
    {
      "cell_type": "code",
      "execution_count": 14,
      "metadata": {
        "colab": {
          "base_uri": "https://localhost:8080/",
          "height": 323
        },
        "id": "1DRZKMkf4usG",
        "outputId": "9fdff8de-1bee-4513-a315-2ffa2fd6c0b0"
      },
      "outputs": [
        {
          "data": {
            "text/plain": [
              "artistName          0\n",
              "trackName           0\n",
              "msPlayed            0\n",
              "datetime            0\n",
              "danceability        0\n",
              "energy              0\n",
              "key                 0\n",
              "loudness            0\n",
              "mode                0\n",
              "speechiness         0\n",
              "acousticness        0\n",
              "instrumentalness    0\n",
              "liveness            0\n",
              "valence             0\n",
              "tempo               0\n",
              "id                  0\n",
              "time_signature      0\n",
              "dtype: int64"
            ]
          },
          "execution_count": 14,
          "metadata": {},
          "output_type": "execute_result"
        }
      ],
      "source": [
        "df1.isnull().sum()"
      ]
    },
    {
      "cell_type": "code",
      "execution_count": 15,
      "metadata": {
        "colab": {
          "base_uri": "https://localhost:8080/",
          "height": 340
        },
        "id": "nOhCEsvp6Dvd",
        "outputId": "a2f79260-3ccb-4c8e-b6a2-ae81e93b0f84"
      },
      "outputs": [
        {
          "data": {
            "text/plain": [
              "list_name           0\n",
              "song_id             0\n",
              "song_name           1\n",
              "artist              1\n",
              "popularity          0\n",
              "release_date        0\n",
              "energy              0\n",
              "liveness            0\n",
              "tempo               0\n",
              "speechiness         0\n",
              "acousticness        0\n",
              "instrumentalness    0\n",
              "danceability        0\n",
              "duration_ms         0\n",
              "loudness            0\n",
              "valence             0\n",
              "mode                0\n",
              "key                 0\n",
              "dtype: int64"
            ]
          },
          "execution_count": 15,
          "metadata": {},
          "output_type": "execute_result"
        }
      ],
      "source": [
        "df2.isnull().sum()"
      ]
    },
    {
      "attachments": {},
      "cell_type": "markdown",
      "metadata": {},
      "source": [
        "One of the playlist I created is empty. So we can delete that playlist entry. "
      ]
    },
    {
      "cell_type": "code",
      "execution_count": 16,
      "metadata": {},
      "outputs": [
        {
          "data": {
            "text/plain": [
              "artistName          0\n",
              "trackName           0\n",
              "msPlayed            0\n",
              "datetime            0\n",
              "danceability        0\n",
              "energy              0\n",
              "key                 0\n",
              "loudness            0\n",
              "mode                0\n",
              "speechiness         0\n",
              "acousticness        0\n",
              "instrumentalness    0\n",
              "liveness            0\n",
              "valence             0\n",
              "tempo               0\n",
              "id                  0\n",
              "time_signature      0\n",
              "dtype: int64"
            ]
          },
          "execution_count": 16,
          "metadata": {},
          "output_type": "execute_result"
        }
      ],
      "source": [
        "df1_new.isnull().sum()"
      ]
    },
    {
      "cell_type": "code",
      "execution_count": 17,
      "metadata": {},
      "outputs": [
        {
          "data": {
            "text/plain": [
              "list_name           0\n",
              "song_id             0\n",
              "song_name           1\n",
              "artist              1\n",
              "popularity          0\n",
              "release_date        0\n",
              "energy              0\n",
              "liveness            0\n",
              "tempo               0\n",
              "speechiness         0\n",
              "acousticness        0\n",
              "instrumentalness    0\n",
              "danceability        0\n",
              "duration_ms         0\n",
              "loudness            0\n",
              "valence             0\n",
              "mode                0\n",
              "key                 0\n",
              "dtype: int64"
            ]
          },
          "execution_count": 17,
          "metadata": {},
          "output_type": "execute_result"
        }
      ],
      "source": [
        "df2_new.isnull().sum()"
      ]
    },
    {
      "cell_type": "code",
      "execution_count": 18,
      "metadata": {},
      "outputs": [
        {
          "name": "stderr",
          "output_type": "stream",
          "text": [
            "C:\\Users\\Admin\\AppData\\Local\\Temp\\ipykernel_15892\\3966616316.py:3: SettingWithCopyWarning: \n",
            "A value is trying to be set on a copy of a slice from a DataFrame\n",
            "\n",
            "See the caveats in the documentation: https://pandas.pydata.org/pandas-docs/stable/user_guide/indexing.html#returning-a-view-versus-a-copy\n",
            "  df2_new.dropna(subset=['song_id', 'song_name', 'artist', 'popularity', 'release_date', 'energy', 'liveness', 'tempo', 'speechiness', 'acousticness', 'instrumentalness', 'danceability', 'duration_ms', 'loudness', 'valence', 'mode', 'key'] , inplace = True)\n"
          ]
        }
      ],
      "source": [
        "df2.dropna(subset=['song_id', 'song_name', 'artist', 'popularity', 'release_date', 'energy', 'liveness', 'tempo', 'speechiness', 'acousticness', 'instrumentalness', 'danceability', 'duration_ms', 'loudness', 'valence', 'mode', 'key'] , inplace = True)\n",
        "\n",
        "df2_new.dropna(subset=['song_id', 'song_name', 'artist', 'popularity', 'release_date', 'energy', 'liveness', 'tempo', 'speechiness', 'acousticness', 'instrumentalness', 'danceability', 'duration_ms', 'loudness', 'valence', 'mode', 'key'] , inplace = True)"
      ]
    },
    {
      "cell_type": "code",
      "execution_count": 19,
      "metadata": {},
      "outputs": [
        {
          "data": {
            "text/plain": [
              "list_name           0\n",
              "song_id             0\n",
              "song_name           0\n",
              "artist              0\n",
              "popularity          0\n",
              "release_date        0\n",
              "energy              0\n",
              "liveness            0\n",
              "tempo               0\n",
              "speechiness         0\n",
              "acousticness        0\n",
              "instrumentalness    0\n",
              "danceability        0\n",
              "duration_ms         0\n",
              "loudness            0\n",
              "valence             0\n",
              "mode                0\n",
              "key                 0\n",
              "dtype: int64"
            ]
          },
          "execution_count": 19,
          "metadata": {},
          "output_type": "execute_result"
        }
      ],
      "source": [
        "df2.isnull().sum()"
      ]
    },
    {
      "cell_type": "code",
      "execution_count": 20,
      "metadata": {},
      "outputs": [
        {
          "data": {
            "text/plain": [
              "list_name           0\n",
              "song_id             0\n",
              "song_name           0\n",
              "artist              0\n",
              "popularity          0\n",
              "release_date        0\n",
              "energy              0\n",
              "liveness            0\n",
              "tempo               0\n",
              "speechiness         0\n",
              "acousticness        0\n",
              "instrumentalness    0\n",
              "danceability        0\n",
              "duration_ms         0\n",
              "loudness            0\n",
              "valence             0\n",
              "mode                0\n",
              "key                 0\n",
              "dtype: int64"
            ]
          },
          "execution_count": 20,
          "metadata": {},
          "output_type": "execute_result"
        }
      ],
      "source": [
        "df2_new.isnull().sum()"
      ]
    },
    {
      "attachments": {},
      "cell_type": "markdown",
      "metadata": {
        "id": "aSrHrs6yoPO3"
      },
      "source": [
        "## Data Format Check\n",
        "\n",
        "In this we are checking if the attributes match with their data type."
      ]
    },
    {
      "cell_type": "code",
      "execution_count": 21,
      "metadata": {
        "colab": {
          "base_uri": "https://localhost:8080/",
          "height": 323
        },
        "id": "-drdk3kzVNsX",
        "outputId": "726e5ef7-ff88-4b18-ec45-ddf6e3290dd6"
      },
      "outputs": [
        {
          "data": {
            "text/plain": [
              "artistName           object\n",
              "trackName            object\n",
              "msPlayed              int64\n",
              "datetime             object\n",
              "danceability        float64\n",
              "energy              float64\n",
              "key                 float64\n",
              "loudness            float64\n",
              "mode                float64\n",
              "speechiness         float64\n",
              "acousticness        float64\n",
              "instrumentalness    float64\n",
              "liveness            float64\n",
              "valence             float64\n",
              "tempo               float64\n",
              "id                   object\n",
              "time_signature      float64\n",
              "dtype: object"
            ]
          },
          "execution_count": 21,
          "metadata": {},
          "output_type": "execute_result"
        }
      ],
      "source": [
        "df1.dtypes"
      ]
    },
    {
      "cell_type": "code",
      "execution_count": 22,
      "metadata": {
        "colab": {
          "base_uri": "https://localhost:8080/",
          "height": 340
        },
        "id": "RjwGgZTT6IKs",
        "outputId": "c8949f2f-e67d-435f-e4a5-6062b6cda645"
      },
      "outputs": [
        {
          "data": {
            "text/plain": [
              "list_name            object\n",
              "song_id              object\n",
              "song_name            object\n",
              "artist               object\n",
              "popularity            int64\n",
              "release_date         object\n",
              "energy              float64\n",
              "liveness            float64\n",
              "tempo               float64\n",
              "speechiness         float64\n",
              "acousticness        float64\n",
              "instrumentalness    float64\n",
              "danceability        float64\n",
              "duration_ms           int64\n",
              "loudness            float64\n",
              "valence             float64\n",
              "mode                  int64\n",
              "key                   int64\n",
              "dtype: object"
            ]
          },
          "execution_count": 22,
          "metadata": {},
          "output_type": "execute_result"
        }
      ],
      "source": [
        "df2.dtypes"
      ]
    },
    {
      "attachments": {},
      "cell_type": "markdown",
      "metadata": {
        "id": "Ml1WwHImoUcB"
      },
      "source": [
        "## Value Check\n",
        "\n",
        "In this we are checking if the content inside the cells are correct or not. So by finding the max and min of the numerical values we can determine if the values are in the acceptable range or not."
      ]
    },
    {
      "cell_type": "code",
      "execution_count": 23,
      "metadata": {
        "colab": {
          "base_uri": "https://localhost:8080/",
          "height": 323
        },
        "id": "MCGebu5zgerb",
        "outputId": "2422be2f-40d8-473c-82fc-3d462b8a17e3"
      },
      "outputs": [
        {
          "data": {
            "text/plain": [
              "artistName                             黄百冰\n",
              "trackName                               跳水\n",
              "msPlayed                           3921066\n",
              "datetime               2023-05-11 23:50:00\n",
              "danceability                         0.989\n",
              "energy                               0.997\n",
              "key                                   11.0\n",
              "loudness                            -0.649\n",
              "mode                                   1.0\n",
              "speechiness                          0.945\n",
              "acousticness                         0.996\n",
              "instrumentalness                     0.993\n",
              "liveness                             0.981\n",
              "valence                              0.979\n",
              "tempo                              243.372\n",
              "id                  7zvv5pM6U9mjYGEFc9iHld\n",
              "time_signature                         5.0\n",
              "dtype: object"
            ]
          },
          "execution_count": 23,
          "metadata": {},
          "output_type": "execute_result"
        }
      ],
      "source": [
        "df1.max(axis=0)"
      ]
    },
    {
      "cell_type": "code",
      "execution_count": 24,
      "metadata": {
        "colab": {
          "base_uri": "https://localhost:8080/",
          "height": 323
        },
        "id": "L0dDp-Gpg7Mz",
        "outputId": "94710c30-e563-47f6-d9dc-c767c7368470"
      },
      "outputs": [
        {
          "data": {
            "text/plain": [
              "artistName                       ((( O )))\n",
              "trackName                              \"K\"\n",
              "msPlayed                                 0\n",
              "datetime               2022-05-11 00:59:00\n",
              "danceability                           0.0\n",
              "energy                            0.000517\n",
              "key                                    0.0\n",
              "loudness                           -45.224\n",
              "mode                                   0.0\n",
              "speechiness                            0.0\n",
              "acousticness                      0.000003\n",
              "instrumentalness                       0.0\n",
              "liveness                            0.0218\n",
              "valence                                0.0\n",
              "tempo                                  0.0\n",
              "id                  003b5j0vMDc8LYImx5DpFS\n",
              "time_signature                         0.0\n",
              "dtype: object"
            ]
          },
          "execution_count": 24,
          "metadata": {},
          "output_type": "execute_result"
        }
      ],
      "source": [
        "df1.min(axis=0)"
      ]
    },
    {
      "cell_type": "code",
      "execution_count": 25,
      "metadata": {
        "colab": {
          "base_uri": "https://localhost:8080/",
          "height": 340
        },
        "id": "_zmg3Rp46OAu",
        "outputId": "02dce1f1-18cb-49ae-ff36-b8bfee95892b"
      },
      "outputs": [
        {
          "data": {
            "text/plain": [
              "list_name                      Spring_Bees\n",
              "song_id             7yxHmqBrmFPGD3ifItlhCM\n",
              "song_name                            Шанти\n",
              "artist                           the Giver\n",
              "popularity                              87\n",
              "release_date                    2023-06-02\n",
              "energy                               0.994\n",
              "liveness                             0.989\n",
              "tempo                              214.083\n",
              "speechiness                          0.371\n",
              "acousticness                         0.992\n",
              "instrumentalness                     0.961\n",
              "danceability                         0.949\n",
              "duration_ms                        1134544\n",
              "loudness                            -2.666\n",
              "valence                              0.895\n",
              "mode                                     1\n",
              "key                                     11\n",
              "dtype: object"
            ]
          },
          "execution_count": 25,
          "metadata": {},
          "output_type": "execute_result"
        }
      ],
      "source": [
        "df2.max(axis=0)"
      ]
    },
    {
      "cell_type": "code",
      "execution_count": 26,
      "metadata": {
        "colab": {
          "base_uri": "https://localhost:8080/",
          "height": 340
        },
        "id": "QQHCCoRd6Q5j",
        "outputId": "88b00934-2c94-4cec-fac1-f51c15e55d35"
      },
      "outputs": [
        {
          "data": {
            "text/plain": [
              "list_name                         Dalai Lama – Inner World\n",
              "song_id                             02K93YKyLxK8xCY2C4ePtI\n",
              "song_name           (Feels Like) Heaven - Extended Version\n",
              "artist                                        3 Doors Down\n",
              "popularity                                               0\n",
              "release_date                                          1972\n",
              "energy                                              0.0884\n",
              "liveness                                            0.0266\n",
              "tempo                                               67.107\n",
              "speechiness                                         0.0261\n",
              "acousticness                                      0.000033\n",
              "instrumentalness                                       0.0\n",
              "danceability                                         0.147\n",
              "duration_ms                                         128370\n",
              "loudness                                           -21.674\n",
              "valence                                             0.0344\n",
              "mode                                                     0\n",
              "key                                                      0\n",
              "dtype: object"
            ]
          },
          "execution_count": 26,
          "metadata": {},
          "output_type": "execute_result"
        }
      ],
      "source": [
        "df2.min(axis=0)"
      ]
    },
    {
      "attachments": {},
      "cell_type": "markdown",
      "metadata": {
        "id": "xgKhXLsN1IX8"
      },
      "source": [
        "So after performing all these checks there seems to be no issues with the dataset and hence no cleaning required."
      ]
    },
    {
      "cell_type": "code",
      "execution_count": 25,
      "metadata": {
        "id": "J7qZ6flx1W0j"
      },
      "outputs": [],
      "source": [
        "df1.to_csv('data\\mohit_song_data.csv')\n",
        "df1_new.to_csv('data\\mohit_distinct_song.csv')\n",
        "df2.to_csv('data\\mohit_playlist_data.csv')\n",
        "df2_new.to_csv('data\\mohit_distinct_playlist.csv')"
      ]
    }
  ],
  "metadata": {
    "colab": {
      "name": "data_cleaning.ipynb",
      "provenance": []
    },
    "kernelspec": {
      "display_name": "Python 3",
      "language": "python",
      "name": "python3"
    },
    "language_info": {
      "codemirror_mode": {
        "name": "ipython",
        "version": 3
      },
      "file_extension": ".py",
      "mimetype": "text/x-python",
      "name": "python",
      "nbconvert_exporter": "python",
      "pygments_lexer": "ipython3",
      "version": "3.11.3"
    },
    "metadata": {
      "interpreter": {
        "hash": "cf6663ca35ebd57d6121109460e534e72c1e1f8ff142ad985cdcb4b7e585eb79"
      }
    }
  },
  "nbformat": 4,
  "nbformat_minor": 0
}
